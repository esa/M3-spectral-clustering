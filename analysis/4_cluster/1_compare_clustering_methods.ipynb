{
 "cells": [
  {
   "cell_type": "code",
   "execution_count": 1,
   "metadata": {},
   "outputs": [],
   "source": [
    "import os\n",
    "import numpy as np\n",
    "\n",
    "from speclearn.tools.constants import CACHE_CLUSTER_SCORES, FIGURE_DIR\n",
    "\n",
    "import matplotlib.pyplot as plt\n",
    "import seaborn as sns\n",
    "sns.set_context('notebook')\n",
    "sns.set_style('whitegrid')"
   ]
  },
  {
   "cell_type": "code",
   "execution_count": null,
   "metadata": {},
   "outputs": [],
   "source": [
    "plt.figure(figsize=(6,4))\n",
    "\n",
    "scores = np.load(os.path.join(CACHE_CLUSTER_SCORES, 'cluster_scores_d22kpp8a.npy'), allow_pickle=True).tolist()\n",
    "\n",
    "calinski_norm = ((scores['calinski'] - np.min(scores['calinski'])) / (np.max(scores['calinski']) - np.min(scores['calinski'])))*0.1+0.5\n",
    "\n",
    "plt.errorbar(np.linspace(2,9,8), scores['silhuette'][:], label='Silhouette', fmt='--o', color='C0')\n",
    "plt.errorbar(np.linspace(2,9,8), scores['davies'][:], label='Davies-Bouldin', fmt='--o', color='C2')\n",
    "plt.errorbar(np.linspace(2,9,8), calinski_norm, label='Calinski (scaled)', fmt='--o', color='C3')\n",
    "\n",
    "plt.gca().set_xlabel('Number of clusters')\n",
    "plt.gca().set_ylabel('Score')\n",
    "plt.legend()\n",
    "plt.savefig(FIGURE_DIR + 'cluster_scores_d22kpp8a.png', dpi=300, bbox_inches='tight')"
   ]
  },
  {
   "cell_type": "code",
   "execution_count": null,
   "metadata": {},
   "outputs": [],
   "source": [
    "scores['silhuette']"
   ]
  }
 ],
 "metadata": {
  "kernelspec": {
   "display_name": "torch_py12",
   "language": "python",
   "name": "python3"
  },
  "language_info": {
   "codemirror_mode": {
    "name": "ipython",
    "version": 3
   },
   "file_extension": ".py",
   "mimetype": "text/x-python",
   "name": "python",
   "nbconvert_exporter": "python",
   "pygments_lexer": "ipython3",
   "version": "3.12.0"
  },
  "orig_nbformat": 4
 },
 "nbformat": 4,
 "nbformat_minor": 2
}

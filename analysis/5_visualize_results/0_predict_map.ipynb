{
 "cells": [
  {
   "cell_type": "code",
   "execution_count": null,
   "metadata": {},
   "outputs": [],
   "source": [
    "\n",
    "import pickle\n",
    "from speclearn.tools.data_tools import *\n",
    "from speclearn.plot.map import *\n",
    "from speclearn.io.data.aoi import get_full_map_aoi\n",
    "from speclearn.deep_learning.predict import get_data, predict_full_map, get_full_data, get_latent\n",
    "from speclearn.deep_learning.model_utils import load_beta_VAE_model, get_colorbar\n",
    "from speclearn.deep_learning.ml_tools import (get_poles_aoi)\n",
    "from sklearn.cluster import KMeans\n",
    "from matplotlib.text import Text\n",
    "from speclearn.deep_learning.cluster import cluster_with_kmeans\n",
    "import seaborn as sns\n",
    "import numpy as np\n",
    "import matplotlib.pyplot as plt\n",
    "from speclearn.io.transform.bin_tools import make_bins\n",
    "from speclearn.deep_learning.model_utils import make_model, train_model\n",
    "from speclearn.io.data.aoi import get_aoi_list_with_full_path, get_full_map_aoi_longitude\n",
    "import wandb\n",
    "local_wavelength = select_wavelength(s_0=0, s_1=-12)\n",
    "import datetime\n",
    "print('Current time: ', datetime.datetime.now())\n",
    "figure_dir = '/home/freya/Documents/figures'\n",
    "from speclearn.tools.constants import *\n",
    "import matplotlib\n",
    "from speclearn.deep_learning.ml_tools import Config, divide_data\n",
    "\n",
    "from datetime import datetime\n",
    "import torch\n",
    "now = datetime.now() # current date and time\n",
    "date_time = now.strftime(\"%m%d%Y_%H%M%S\")\n",
    "print(\"date and time:\",date_time)\n",
    "date_time[0]\n",
    "\n",
    "\n",
    "def get_colorbar_1(k):\n",
    "    map = 'viridis'\n",
    "    n_colors=200\n",
    "\n",
    "    palette = sns.color_palette(map, n_colors=n_colors)\n",
    "    b=[sns.color_palette(\"Set2\")[-1]]\n",
    "\n",
    "    if k == 8:\n",
    "        a= [palette[0], palette[30],palette[60], palette[90]]\n",
    "    elif k == 6:\n",
    "        a= [palette[0], palette[60]]\n",
    "    elif k == 5:\n",
    "\n",
    "        a= [palette[30] ,palette[100], b[0], palette[160], palette[199]]    \n",
    "    else:\n",
    "        a = [palette[30],palette[60], palette[90]]\n",
    "\n",
    "    c= [palette[120],palette[160], palette[199]]\n",
    "\n",
    "    clist = a[::-1]+b+c[::-1]\n",
    "    if k == 2:\n",
    "        clist = [clist[0]]+[clist[-2]]\n",
    "    if k == 5:\n",
    "        \n",
    "        a = ['#432e6b','#4580ba', '#b3b3b3', '#7cd250', '#fbeb37'] #fced69\n",
    "        clist = a\n",
    "\n",
    "\n",
    "    cmap = matplotlib.colors.ListedColormap(clist, \"\")\n",
    "    cmap.set_under('black')\n",
    "\n",
    "    return clist, cmap\n",
    "\n",
    "def make_full_cluster_map_1(area='large',save_file=False):\n",
    "    cluster_2d_s = cluster_2d[:, 0:600]\n",
    "    #cluster_2d_s = np.fliplr(cluster_2d_s)\n",
    "    \n",
    "    cluster_2d_n = cluster_2d[:, -600:]\n",
    "    clist, cmap = get_colorbar_1(5)\n",
    "    if area == 'large':\n",
    "        d_area = 30\n",
    "    else:\n",
    "        d_area = 10\n",
    "    lat_edges, lat_centers = make_bins(aoi_s['lat_range'], int(\n",
    "        d_area/aoi_s['d_lat']))\n",
    "    long_edges, long_centers = make_bins(\n",
    "        aoi_s['long_range'], int(360/aoi_s['d_long']))\n",
    "    loc_s = {'long_center': long_centers,\n",
    "            'lat_center': lat_centers, }\n",
    "    df_2d_s = get_df_2d(np.array(cluster_2d_s), loc_s)\n",
    "    r_s, theta_s = get_polar_loc(df_2d_s, 'south')\n",
    "\n",
    "    lat_edges, lat_centers = make_bins(aoi_n['lat_range'], int(d_area/aoi_n['d_lat']))\n",
    "    long_edges, long_centers = make_bins(\n",
    "        aoi_n['long_range'], int(360/aoi_n['d_long']))\n",
    "    loc_n = {'long_center': long_centers,\n",
    "            'lat_center': lat_centers, }\n",
    "    df_2d_n = get_df_2d(np.array(cluster_2d_n), loc_n)\n",
    "    r_n, theta_n = get_polar_loc(df_2d_n, 'north')\n",
    "\n",
    "    fig = plt.figure(figsize=(15, 10))\n",
    "    ax1 = fig.add_axes([0.0, 0.48, 0.8, 0.5])\n",
    "    ax2 = fig.add_axes([0.0, 0.0, 0.45, 0.4], polar=True)\n",
    "    ax3 = fig.add_axes([0.4, 0.0, 0.45, 0.4], polar=True)\n",
    "\n",
    "    cbar_ax = fig.add_axes([0.85, 0.1, 0.015, 0.9])  # left, bottom, width, height\n",
    "    cbar_ax.set_yticks(np.linspace(0.5, k-0.5, k))\n",
    "    cbar_ax.set_yticklabels(np.linspace(1, k, k, dtype=int))    \n",
    "    fig.subplots_adjust(right=0.8)\n",
    "    clist, cmap = get_colorbar_1(k)\n",
    "    sns.heatmap(np.rot90(cluster_2d[:,400:-400]), cmap=cmap, ax=ax1,#+0.5\n",
    "                cbar_ax=cbar_ax, vmin=0, vmax=k, cbar_kws={'label': 'Cluster', 'ticks': np.linspace(0.5, k-0.5, k), 'boundaries': np.arange(k+1), 'extend': 'neither', 'extendfrac': 'auto'})\n",
    "\n",
    "    ax1.set_xticks(np.linspace(0.5, np.rot90(cluster_2d[:,400:-400]).shape[1]-1.0, 19))\n",
    "    ax1.set_xticklabels(f'{c:.1f}' for c in np.linspace(-180, 180, 19, dtype=int))\n",
    "    ax1.set_yticks(np.linspace(0.5, np.rot90(cluster_2d[:,400:-400]).shape[0]-1.0, 15))\n",
    "    ax1.set_yticklabels(f'{c:.1f}' for c in np.flip(\n",
    "        np.linspace(-70, 70, 15, dtype=int)))\n",
    "    ax1.set_xlabel('Longitude')\n",
    "    ax1.set_ylabel('Latitude')\n",
    "\n",
    "    dr = np.fabs((r_s[0] - r_s[1]) / 2)\n",
    "    ax2.set_rlim(np.min(r_s) - dr, np.max(r_s) + dr)\n",
    "    ax2.set_theta_direction(1)\n",
    "    ax2.set_theta_offset(np.pi)\n",
    "    ax2.pcolormesh(theta_s, r_s, df_2d_s, cmap=cmap, vmin=0, vmax=k)\n",
    "    ax2.set_yticklabels([])\n",
    "    ax2.set_theta_zero_location(\"N\")\n",
    "    ax2.set_theta_direction(-1) \n",
    "\n",
    "    ax2.set_xticklabels([Text(0.0, 0, '0°'),\n",
    "                        Text(0.7853981633974483, 0, '45°'),\n",
    "                        Text(1.5707963267948966, 0, '90°'),\n",
    "                        Text(2.356194490192345, 0, '135°'),\n",
    "                        Text(3.141592653589793, 0, '180°'),\n",
    "                        Text(3.9269908169872414, 0, '-135°'),\n",
    "                        Text(4.71238898038469, 0, '-90°'),\n",
    "                        Text(5.497787143782138, 0, '-45°')])\n",
    "\n",
    "    dr = np.fabs((r_n[0] - r_n[1]) / 2)\n",
    "    ax3.set_rlim(np.min(r_n) - dr, np.max(r_n) + dr)\n",
    "    ax3.set_theta_direction(1)\n",
    "    ax3.set_theta_offset(np.pi / 2.0)\n",
    "    ax3.set_theta_zero_location(\"S\")\n",
    "    ax3.set_xticklabels([Text(0.0, 0, '0°'),\n",
    "                        Text(0.7853981633974483, 0, '45°'),\n",
    "                        Text(1.5707963267948966, 0, '90°'),\n",
    "                        Text(2.356194490192345, 0, '135°'),\n",
    "                        Text(3.141592653589793, 0, '180°'),\n",
    "                        Text(3.9269908169872414, 0, '-135°'),\n",
    "                        Text(4.71238898038469, 0, '-90°'),\n",
    "                        Text(5.497787143782138, 0, '-45°')])\n",
    "    ax3.pcolormesh(theta_n, r_n, df_2d_n, vmin=0, vmax=k, cmap=cmap)\n",
    "    ax3.set_yticklabels([])\n",
    "    cbar_ax.set_yticks(np.linspace(0.5, k-0.5, k))\n",
    "    cbar_ax.set_yticklabels(np.linspace(1, k, k, dtype=int))\n",
    "    ax2.grid(False)\n",
    "    ax3.grid(False)\n",
    "    #if full:\n",
    "    if save_file:\n",
    "        plt.savefig(f'{FIGURE_DIR}/results/{date_time}_map_clusters_{k}_{area}_{model_name}_full.png', bbox_inches='tight', dpi=1600)\n",
    "        print(f'{FIGURE_DIR}/results/{date_time}_map_clusters_{k}_{area}_{model_name}_full.png')\n",
    "        #plt.savefig(f'{figure_dir}/cluster_maps/{date_time}_map_clusters_{k}_{area}_{model_name}_full.pdf', bbox_inches='tight')\n",
    "    #else:\n",
    "        #plt.savefig(f'{figure_dir}/cluster_maps/{date_time}_map_clusters_{k}_{area}_{model_name}.png', #bbox_inches='tight', dpi=300)\n",
    "        #plt.savefig(f'{figure_dir}/cluster_maps/{date_time}_map_clusters_{k}_{area}_{model_name}.pdf', #bbox_inches='tight')\n",
    "    plt.show()\n",
    "\n",
    "def swap_colors(cluster_2d, color_1, color_2):\n",
    "    if color_2 == 0:\n",
    "        color_2 = color_1\n",
    "        color_1 = 0\n",
    "\n",
    "    cluster_2d[cluster_2d == color_1] = -color_1\n",
    "    cluster_2d[cluster_2d == color_2] = -color_2\n",
    "    cluster_2d[cluster_2d == -color_1] = color_2\n",
    "    cluster_2d[cluster_2d == -color_2] = color_1\n",
    "\n",
    "    return"
   ]
  },
  {
   "attachments": {},
   "cell_type": "markdown",
   "metadata": {},
   "source": [
    "# Settings"
   ]
  },
  {
   "cell_type": "code",
   "execution_count": 2,
   "metadata": {},
   "outputs": [],
   "source": [
    "k = 5\n",
    "crs = False\n",
    "area = 'large'\n",
    "norm = False\n",
    "full = False\n",
    "clist, cmap = get_colorbar(k)"
   ]
  },
  {
   "attachments": {},
   "cell_type": "markdown",
   "metadata": {},
   "source": [
    "# Preparation"
   ]
  },
  {
   "cell_type": "code",
   "execution_count": null,
   "metadata": {},
   "outputs": [],
   "source": [
    "#cmap = get_colorbar(k)\n",
    "aoi_list = get_full_map_aoi_longitude(step_size=20)\n",
    "#model, model_name = load_beta_VAE_model(crs=crs, norm=norm)\n",
    "\n",
    "no_latent = 5\n",
    "config = {\n",
    "    \"model\": \"CVAE\",\n",
    "    \"learning_rate\": 0.00001,\n",
    "    \"epochs\": 100,\n",
    "    \"no_batches\": 256,\n",
    "    \"no_latent\": no_latent,\n",
    "    \"type\": 'Adam',\n",
    "    \"loss_function\": 'MSE',\n",
    "    \"input_size\": 71,\n",
    "    \"beta\": 1,\n",
    "    \"patience\": 5,\n",
    "    \"architecture\": 2,\n",
    "    \"activation\": 'sigmoid',\n",
    "    \"dropout\": 0.5,\n",
    "    \"architecture\": 4\n",
    "}\n",
    "run_name='a8h7e21r'\n",
    "model_name=run_name\n",
    "\n",
    "model, criterion, optimizer = make_model(Config(config))\n",
    "\n",
    "prev_model = wandb.restore(\n",
    "    f'{run_name}_model.h5', f'freja-thoresen/M3-autoencoders/{run_name}', replace=True) \n",
    "\n",
    "model.load_state_dict(torch.load(prev_model.name,map_location=torch.device('cpu')))\n",
    "\n",
    "print('model:', model_name)"
   ]
  },
  {
   "attachments": {},
   "cell_type": "markdown",
   "metadata": {},
   "source": [
    "## Predict with model"
   ]
  },
  {
   "cell_type": "code",
   "execution_count": null,
   "metadata": {},
   "outputs": [],
   "source": [
    "predict_full_map(aoi_list, model, model_name, crs=crs, norm=norm, no_latent=6)"
   ]
  },
  {
   "cell_type": "code",
   "execution_count": 8,
   "metadata": {},
   "outputs": [],
   "source": [
    "#data_2d, coord, latent, recon = get_data(aoi_list, model_name, crs=crs, norm=norm)\n",
    "#recon = None # Release from memory\n",
    "from speclearn.deep_learning.predict import get_coord\n",
    "\n",
    "data_2d = get_full_data(aoi_list, crs, norm, periods=[])\n",
    "coord = get_coord(aoi_list)\n",
    "latent = get_latent(aoi_list, model_name)"
   ]
  },
  {
   "attachments": {},
   "cell_type": "markdown",
   "metadata": {},
   "source": [
    "## Cluster data"
   ]
  },
  {
   "cell_type": "code",
   "execution_count": null,
   "metadata": {},
   "outputs": [],
   "source": [
    "kmeans_name = f\"kmeans_{k}_{model_name}.pkl\"\n",
    "kmeans = cluster_with_kmeans(kmeans_name, data_2d[:, 200:-200,:], latent, k, replace=True)"
   ]
  },
  {
   "cell_type": "code",
   "execution_count": 10,
   "metadata": {},
   "outputs": [],
   "source": [
    "cluster, cluster_2d = predict_kmeans(kmeans, data_2d, latent, coord)"
   ]
  },
  {
   "attachments": {},
   "cell_type": "markdown",
   "metadata": {},
   "source": [
    "## Prepare poles data"
   ]
  },
  {
   "cell_type": "code",
   "execution_count": 11,
   "metadata": {},
   "outputs": [],
   "source": [
    "aoi_s = get_poles_aoi(area=area)\n",
    "aoi_n = get_poles_aoi(area=area, region='north')"
   ]
  },
  {
   "attachments": {},
   "cell_type": "markdown",
   "metadata": {},
   "source": [
    "# Eq. and poles map"
   ]
  },
  {
   "cell_type": "code",
   "execution_count": null,
   "metadata": {},
   "outputs": [],
   "source": [
    "clist, cmap = get_colorbar_1(k)"
   ]
  },
  {
   "cell_type": "code",
   "execution_count": null,
   "metadata": {},
   "outputs": [],
   "source": [
    "make_full_cluster_map_1(save_file=True)"
   ]
  },
  {
   "cell_type": "code",
   "execution_count": 15,
   "metadata": {},
   "outputs": [],
   "source": [
    "# swap_colors(cluster_2d, 1, 3)"
   ]
  },
  {
   "cell_type": "markdown",
   "metadata": {},
   "source": []
  },
  {
   "cell_type": "code",
   "execution_count": 92,
   "metadata": {},
   "outputs": [],
   "source": [
    "# np.save(f'{CACHE_CLUSTER}/{model_name}_{k}_cluster_2d.npy', cluster_2d)\n",
    "#np.save(f'{CACHE_CLUSTER}/{model_name}_{k}_cluster_2d_50_lat_south.npy', cluster_2d[:, 0:600])\n",
    "#np.save(f'{CACHE_CLUSTER}/{model_name}_{k}_cluster_2d_50_lat_north.npy',cluster_2d[:, -600:])"
   ]
  }
 ],
 "metadata": {
  "kernelspec": {
   "display_name": "torch_py12",
   "language": "python",
   "name": "python3"
  },
  "language_info": {
   "codemirror_mode": {
    "name": "ipython",
    "version": 3
   },
   "file_extension": ".py",
   "mimetype": "text/x-python",
   "name": "python",
   "nbconvert_exporter": "python",
   "pygments_lexer": "ipython3",
   "version": "3.12.0"
  },
  "orig_nbformat": 4
 },
 "nbformat": 4,
 "nbformat_minor": 2
}

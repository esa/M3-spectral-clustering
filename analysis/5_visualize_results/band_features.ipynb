{
 "cells": [
  {
   "cell_type": "code",
   "execution_count": null,
   "metadata": {},
   "outputs": [],
   "source": [
    "import matplotlib.pyplot as plt\n",
    "from matplotlib.lines import Line2D\n",
    "import numpy as np\n",
    "import seaborn as sns\n",
    "from speclearn.deep_learning.cluster import cluster_with_kmeans\n",
    "from speclearn.deep_learning.model_utils import (get_colorbar,\n",
    "                                                 load_beta_VAE_model)\n",
    "from speclearn.deep_learning.predict import (get_full_data,\n",
    "                                             predict_minerals,\n",
    "                                             process_full_map, read_area)\n",
    "from speclearn.deep_learning.model_utils import (get_colorbar,\n",
    "                                                 load_beta_VAE_model)\n",
    "from speclearn.deep_learning.predict import (get_full_data,\n",
    "                                             process_full_map, read_area)\n",
    "from speclearn.io.data.aoi import get_full_map_aoi\n",
    "from speclearn.plot.map import *\n",
    "from speclearn.tools.cache import check_file\n",
    "from speclearn.tools.data_tools import *\n",
    "from pysptools.spectro import FeaturesConvexHullQuotient\n",
    "warnings.filterwarnings(\"ignore\", category=UserWarning)\n",
    "warnings.filterwarnings(\"ignore\", category=RuntimeWarning)\n",
    "local_wavelength = select_wavelength(s_0=0, s_1=-12)\n",
    "import datetime\n",
    "\n",
    "print('Current time: ', datetime.datetime.now())\n",
    "figure_dir = '/home/freya/Documents/figures/cluster_maps/'\n",
    "from speclearn.tools.constants import *\n",
    "import os\n",
    "\n",
    "sns.set_style('whitegrid')\n",
    "sns.set_context('notebook')"
   ]
  },
  {
   "cell_type": "code",
   "execution_count": null,
   "metadata": {},
   "outputs": [],
   "source": [
    "#df = pd.read_pickle('/home/freya/Documents/Code/cache/band_features.pkl')"
   ]
  },
  {
   "cell_type": "code",
   "execution_count": null,
   "metadata": {},
   "outputs": [],
   "source": [
    "k = 5\n",
    "crs = False\n",
    "area = 'large'\n",
    "norm = False\n",
    "full=False\n",
    "if full:\n",
    "    full_name='_full'\n",
    "else:\n",
    "    full_name=''\n",
    "\n",
    "clist, cmap = get_colorbar(k)\n",
    "\n",
    "aois = get_full_map_aoi(d_long=0.05, d_lat=0.05, step_size=10)\n",
    "model, model_name = load_beta_VAE_model(crs=crs, norm=norm)\n",
    "print('model:', model_name)"
   ]
  },
  {
   "cell_type": "code",
   "execution_count": null,
   "metadata": {},
   "outputs": [],
   "source": [
    "crs = False\n",
    "norm = False\n",
    "\n",
    "data_2d_full, coord_full = get_full_data(aois, crs=crs, periods=[], norm=norm)\n",
    "data_2d_full[np.fabs(data_2d_full) == 10] = float('NaN')"
   ]
  },
  {
   "cell_type": "code",
   "execution_count": 5,
   "metadata": {},
   "outputs": [],
   "source": [
    "if check_file(os.path.join(CACHE_CLUSTER, f'{model_name}_{k}_cluster_2d_70_lat{full_name}.npy')):\n",
    "    cluster_2d = np.load(os.path.join(CACHE_CLUSTER, f'{model_name}_{k}_cluster_2d_70_lat{full_name}.npy'))\n",
    "    cluster_2d_s = np.load(os.path.join(CACHE_CLUSTER, f'{model_name}_{k}_cluster_2d_50_lat_south{full_name}.npy'))\n",
    "    cluster_2d_n = np.load(os.path.join(CACHE_CLUSTER, f'{model_name}_{k}_cluster_2d_50_lat_north{full_name}.npy'))\n",
    "\n",
    "cluster_2d_s = cluster_2d_s[:,0:400]\n",
    "cluster_2d_n = cluster_2d_n[:,200:]\n",
    "\n",
    "cluster_2d_full = np.concatenate([cluster_2d_s, cluster_2d, cluster_2d_n], axis=1)"
   ]
  },
  {
   "cell_type": "code",
   "execution_count": 6,
   "metadata": {},
   "outputs": [],
   "source": [
    "def _is_band_none(band_1, band_2):\n",
    "    if band_1 is None and band_2 is None:\n",
    "        return [], [], [], []\n",
    "    elif band_2 is None:\n",
    "        selected_features = [band_1]\n",
    "    elif band_1 is None:\n",
    "        selected_features = [band_2]\n",
    "    else:\n",
    "        selected_features = [band_1, band_2]\n",
    "    return selected_features"
   ]
  },
  {
   "cell_type": "code",
   "execution_count": 58,
   "metadata": {},
   "outputs": [],
   "source": [
    "def get_band_features(features, band_1_range = [750, 1250], band_2_range = [1250, 2500]\n",
    "):\n",
    "    features_numbers = np.linspace(0, features.get_number_of_kept_features()-1,features.get_number_of_kept_features(), dtype=int)\n",
    "    \n",
    "    wl =  np.array([features.get_absorbtion_wavelength(i) for i in features_numbers])\n",
    "    if len(features_numbers) == 0:\n",
    "        return [], [], [], []\n",
    "    \n",
    "    depths = np.array([features.get_absorbtion_depth(i) for i in features_numbers])\n",
    "\n",
    "    band_1_index = (wl>=band_1_range[0]) & (wl < band_1_range[1])\n",
    "    band_1_candidates = features_numbers[band_1_index]\n",
    "    band_1_candidate_depths = depths[band_1_index]\n",
    "    band_1 = band_1_candidates[np.argmin(band_1_candidate_depths)] if band_1_candidates.any() else None\n",
    "    \n",
    "    band_2_index = (wl>=band_2_range[0]) & (wl < band_2_range[1])\n",
    "    band_2_candidates = features_numbers[band_2_index]\n",
    "    band_2_candidate_depths = depths[band_2_index]\n",
    "    band_2 = band_2_candidates[np.argmin(band_2_candidate_depths)] if band_2_candidate_depths.any() else None\n",
    "\n",
    "    selected_features = _is_band_none(band_1, band_2)\n",
    "    if (len(selected_features) > 2):\n",
    "        return selected_features\n",
    "    \n",
    "    selected_feature_numbers = [features_numbers[i] for i in selected_features]\n",
    "    selected_features_data = [(features.get_absorbtion_depth(i),\n",
    "                                features.get_absorbtion_wavelength(i),\n",
    "                                features.get_area(i),\n",
    "                                features.get_full_width_at_half_maximum(i)) for i in selected_feature_numbers]\n",
    "\n",
    "    depths, absorbtion_wavelengths, areas, fwhm = zip(*selected_features_data)\n",
    "\n",
    "    return depths, absorbtion_wavelengths, areas, fwhm\n",
    "\n",
    "file_path = f'/home/freya/Documents/Code/cache/band_features_{model_name}.pkl'\n",
    "\n",
    "if os.path.exists(file_path):\n",
    "    df = pd.read_pickle(file_path)\n",
    "else:    \n",
    "    depths_1, absorbtion_wavelengths_1, areas_1, fwhm_1 = [], [], [], []\n",
    "    depths_2, absorbtion_wavelengths_2, areas_2, fwhm_2 = [], [], [], []\n",
    "    cluster, cluster_second = [], []\n",
    "\n",
    "    for n_long in range(0, data_2d_full.shape[0]):\n",
    "        for n_lat in range(0, data_2d_full.shape[1]):\n",
    "            try:\n",
    "                features = FeaturesConvexHullQuotient((data_2d_full[n_long, n_lat, :] + 1e-12).tolist(),\n",
    "                                                      local_wavelength.tolist(),\n",
    "                                                      normalize=False,\n",
    "                                                      baseline=0.99)\n",
    "            except Exception as e:\n",
    "                # print(f'Error: {e}')\n",
    "                continue\n",
    "\n",
    "            if features.get_number_of_kept_features() > 0:\n",
    "                depths, absorbtion_wavelengths, areas, fwhm = get_band_features(features, band_1_range = [500, 1250], band_2_range = [1250, 2500])\n",
    "\n",
    "                cluster.append(cluster_2d_full[n_long, n_lat] + 1)\n",
    "                features_numbers = np.arange(features.get_number_of_kept_features())\n",
    "                \n",
    "                if len(depths) == 0:\n",
    "                    cluster_second.append(cluster_2d_full[n_long, n_lat] + 1)\n",
    "                    depths_2.append(-1.)\n",
    "                    absorbtion_wavelengths_2.append(-1.)\n",
    "                    areas_2.append(-1.)\n",
    "                    fwhm_2.append(-1.)               \n",
    "                    \n",
    "                    depths_1.append(-1.)\n",
    "                    absorbtion_wavelengths_1.append(-1.)\n",
    "                    areas_1.append(-1.)\n",
    "                    fwhm_1.append(-1.)                         \n",
    "                    continue\n",
    "\n",
    "                if len(depths) > 1:\n",
    "                    cluster_second.append(cluster_2d_full[n_long, n_lat] + 1)\n",
    "                    depths_2.append(1 - depths[1])\n",
    "                    absorbtion_wavelengths_2.append(absorbtion_wavelengths[1])\n",
    "                    areas_2.append(areas[1])\n",
    "                    fwhm_2.append(fwhm[1])\n",
    "                else:\n",
    "                    cluster_second.append(cluster_2d_full[n_long, n_lat] + 1)\n",
    "                    depths_2.append(-1.)\n",
    "                    absorbtion_wavelengths_2.append(-1.)\n",
    "                    areas_2.append(-1.)\n",
    "                    fwhm_2.append(-1.)\n",
    "                \n",
    "\n",
    "                depths_1.append(1 - depths[0])\n",
    "                absorbtion_wavelengths_1.append(absorbtion_wavelengths[0])\n",
    "                areas_1.append(areas[0])\n",
    "                fwhm_1.append(fwhm[0])\n",
    "            else:\n",
    "                continue\n",
    "\n",
    "    df = pd.DataFrame(columns=['Absorption wavelength', 'FWHM', 'Feature'])\n",
    "    df_secondary = pd.DataFrame(columns=['Absorption wavelength', 'FWHM', 'Feature'])\n",
    "\n",
    "    df['Depth'] = depths_1\n",
    "    df['Absorption wavelength'] = absorbtion_wavelengths_1\n",
    "    df['Area'] = areas_1\n",
    "    df['FWHM'] = fwhm_1\n",
    "    df['Feature'] = 'Band 1'\n",
    "    df['Cluster'] = cluster\n",
    "\n",
    "    if len(absorbtion_wavelengths) > 1:\n",
    "        df_secondary['Depth'] = depths_2\n",
    "        df_secondary['Absorption wavelength'] = absorbtion_wavelengths_2\n",
    "        df_secondary['Area'] = areas_2\n",
    "        df_secondary['FWHM'] = fwhm_2\n",
    "        df_secondary['Feature'] = 'Band 2'\n",
    "        df_secondary['Cluster'] = cluster_second\n",
    "\n",
    "        df = df.append(df_secondary, ignore_index=True)\n",
    "\n",
    "    df['Cluster'] = df['Cluster'].astype('int')\n",
    "    pd.to_pickle(df, file_path)"
   ]
  },
  {
   "cell_type": "code",
   "execution_count": null,
   "metadata": {},
   "outputs": [],
   "source": [
    "import matplotlib\n",
    "a = ['#432e6b','#4580ba', '#b3b3b3', '#7cd250', '#fbeb37'] #fced69\n",
    "cmap = matplotlib.colors.ListedColormap(a, \"\")\n",
    "cmap.set_under('black')\n",
    "cmap"
   ]
  },
  {
   "cell_type": "code",
   "execution_count": null,
   "metadata": {},
   "outputs": [],
   "source": [
    "fig, ax = plt.subplots(ncols=3, nrows=1, figsize=(15,3), sharex=False, sharey=False, gridspec_kw={'wspace': 0.2,'width_ratios': [2, 1, 1]})\n",
    "\n",
    "sns.kdeplot(df['Absorption wavelength'], shade=False, shade_lowest=True, ax=ax[0],hue=df['Cluster'],palette=cmap, bw_adjust=1.2, common_norm=False)\n",
    "\n",
    "#sns.kdeplot(df['FWHM'], shade=True, shade_lowest=False, ax=ax[1],hue=df['Cluster'],palette=cmap, bw_adjust=1.5,common_norm=False)\n",
    "\n",
    "sns.kdeplot(data=df[df['Feature'] == 'Band 1'], x='Depth', shade=False, shade_lowest=True, ax=ax[1],hue='Cluster',palette=cmap, bw_adjust=1.5,common_norm=False)\n",
    "\n",
    "sns.kdeplot(data=df[df['Feature'] == 'Band 2'], x='Depth', shade=False, shade_lowest=True, ax=ax[2],hue='Cluster',palette=cmap, bw_adjust=1.5,common_norm=False)\n",
    "\n",
    "#i.set_title(f'Cluster {c+1}')\n",
    "\n",
    "ax[0].set_xlim([500,2500])\n",
    "ax[1].set_xlim([0,0.35])\n",
    "ax[2].set_xlim([0,0.35])\n",
    "\n",
    "ax[0].set_xlabel('Absorption wavelength [nm]')\n",
    "ax[1].set_xlabel('Depth at Band I')\n",
    "ax[2].set_xlabel('Depth at Band II')\n",
    "\n",
    "#i.set_ylim([0,0.0055])\n",
    "plt.savefig(os.path.join(figure_dir, f'absorption_{model_name}_{k}{full_name}_band_ranges.png'), dpi=300, bbox_inches='tight')\n",
    "plt.show()"
   ]
  },
  {
   "cell_type": "code",
   "execution_count": 59,
   "metadata": {},
   "outputs": [],
   "source": [
    "df.loc[df['Absorption wavelength']<1250.0, 'Feature'] = 'Band 1'\n",
    "df.loc[df['Absorption wavelength']>1250.0, 'Feature'] = 'Band 2'"
   ]
  },
  {
   "cell_type": "code",
   "execution_count": null,
   "metadata": {},
   "outputs": [],
   "source": [
    "sns.kdeplot(df['Absorption wavelength'], shade=False, shade_lowest=True, hue=df['Cluster'],palette=cmap, bw_adjust=1.2, common_norm=False)\n",
    "plt.show()"
   ]
  },
  {
   "cell_type": "code",
   "execution_count": null,
   "metadata": {},
   "outputs": [],
   "source": [
    "sns.kdeplot(df[df['Feature']=='Band 1']['Absorption wavelength'], shade=False, shade_lowest=True, hue=df['Cluster'],palette=cmap, common_norm=False,bw_adjust=30)\n",
    "plt.show()"
   ]
  },
  {
   "cell_type": "code",
   "execution_count": null,
   "metadata": {},
   "outputs": [],
   "source": [
    "fig, ax = plt.subplots(ncols=5, nrows=1, figsize=(15,3), sharex=True, sharey=True)\n",
    "for c, i in enumerate(ax.ravel()):\n",
    "    _df = df[df['Cluster']==c+1]\n",
    "    #_df = _df[_df['Feature']=='Band 1']\n",
    "    \n",
    "    sns.histplot(_df['Absorption wavelength'], ax=i, edgecolor=\"None\", alpha=0.65,stat='density',binwidth=100, color=clist[c])\n",
    "    sns.kdeplot(_df['Absorption wavelength'], shade=False, shade_lowest=False, ax=i, c=clist[c], bw_adjust=1.5)\n",
    "    i.set_title(f'Cluster {c+1}')\n",
    "    #i.set_xlim([500,2500])"
   ]
  },
  {
   "cell_type": "code",
   "execution_count": null,
   "metadata": {},
   "outputs": [],
   "source": [
    "fig, ax = plt.subplots(ncols=5, nrows=1, figsize=(15,3), sharex=True, sharey=True)\n",
    "for c, i in enumerate(ax.ravel()):\n",
    "    _df = df[df['Cluster']==c+1]\n",
    "    _df = _df[_df['Feature']=='Band 1']\n",
    "    \n",
    "    sns.histplot(_df['Absorption wavelength'], ax=i, edgecolor=\"None\", alpha=0.65,stat='density',binwidth=100, color=clist[c])\n",
    "    sns.kdeplot(_df['Absorption wavelength'], shade=False, shade_lowest=False, ax=i, c=clist[c], bw_adjust=10.5)\n",
    "    i.set_title(f'Cluster {c+1}')\n",
    "    #i.set_xlim([500,2500])"
   ]
  },
  {
   "cell_type": "code",
   "execution_count": null,
   "metadata": {},
   "outputs": [],
   "source": [
    "import numpy as np\n",
    "import seaborn as sns\n",
    "import matplotlib.pyplot as plt\n",
    "\n",
    "# Define the number of clusters and their respective colors\n",
    "num_clusters = 5\n",
    "clist = ['blue', 'green', 'red', 'orange', 'purple']  # Define your colors\n",
    "\n",
    "fig, ax = plt.subplots(ncols=num_clusters, nrows=1, figsize=(15,3), sharex=True, sharey=True)\n",
    "\n",
    "for c, i in enumerate(ax.ravel()):\n",
    "    _df = df[df['Cluster'] == c+1]\n",
    "    _df = _df[_df['Feature'] == 'Band 1']\n",
    "\n",
    "    sns.histplot(_df['Absorption wavelength'], ax=i, edgecolor=\"None\", alpha=0.65, stat='density', binwidth=100, color=clist[c])\n",
    "    kde = sns.kdeplot(_df['Absorption wavelength'], shade=False, shade_lowest=False, ax=i, c=clist[c], bw_adjust=10.5)\n",
    "    i.set_title(f'Cluster {c+1}')\n",
    "\n",
    "    # Get x and y values of the KDE plot\n",
    "    x_kde, y_kde = kde.get_lines()[0].get_data()\n",
    "\n",
    "    # Calculate cumulative density function (CDF)\n",
    "    cdf = np.cumsum(y_kde) / np.sum(y_kde)\n",
    "\n",
    "    # Find the x-value where CDF is closest to 0.5\n",
    "    median_index = np.argmin(np.abs(cdf - 0.5))\n",
    "    median = x_kde[median_index]\n",
    "\n",
    "    print(f\"Median for Cluster {c+1}: {median}\")\n",
    "\n",
    "plt.show()"
   ]
  },
  {
   "cell_type": "code",
   "execution_count": null,
   "metadata": {},
   "outputs": [],
   "source": [
    "np.around(df[df['Feature']=='Band 1'].groupby('Cluster').mean(),3)"
   ]
  },
  {
   "cell_type": "code",
   "execution_count": null,
   "metadata": {},
   "outputs": [],
   "source": [
    "np.around(df[df['Feature']=='Band 1'].groupby('Cluster').median(),3)"
   ]
  },
  {
   "cell_type": "code",
   "execution_count": null,
   "metadata": {},
   "outputs": [],
   "source": [
    "np.around(df[df['Feature']=='Band 2'].groupby('Cluster').mean(),3)"
   ]
  },
  {
   "cell_type": "code",
   "execution_count": null,
   "metadata": {},
   "outputs": [],
   "source": [
    "np.around(df[df['Feature']=='Band 2'].groupby('Cluster').median(),5)"
   ]
  }
 ],
 "metadata": {
  "kernelspec": {
   "display_name": "Python 3.8.13 ('pyhat')",
   "language": "python",
   "name": "python3"
  },
  "language_info": {
   "codemirror_mode": {
    "name": "ipython",
    "version": 3
   },
   "file_extension": ".py",
   "mimetype": "text/x-python",
   "name": "python",
   "nbconvert_exporter": "python",
   "pygments_lexer": "ipython3",
   "version": "3.9.10"
  },
  "orig_nbformat": 4,
  "vscode": {
   "interpreter": {
    "hash": "f4312ce7a11301e0ef4b1803dd48e19f0b69ce04ce6529d2fb36911812ed6765"
   }
  }
 },
 "nbformat": 4,
 "nbformat_minor": 2
}

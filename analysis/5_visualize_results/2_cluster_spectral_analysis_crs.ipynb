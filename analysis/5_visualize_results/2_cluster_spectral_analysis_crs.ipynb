{
 "cells": [
  {
   "cell_type": "code",
   "execution_count": null,
   "metadata": {},
   "outputs": [],
   "source": [
    "import matplotlib.pyplot as plt\n",
    "from matplotlib.lines import Line2D\n",
    "import numpy as np\n",
    "import seaborn as sns\n",
    "from speclearn.deep_learning.model_utils import (get_colorbar,\n",
    "                                                 load_beta_VAE_model)\n",
    "from speclearn.deep_learning.predict import get_data\n",
    "from speclearn.plot.map import *\n",
    "from speclearn.tools.cache import check_file\n",
    "from speclearn.tools.data_tools import *\n",
    "local_wavelength = select_wavelength(s_0=0, s_1=-12)\n",
    "\n",
    "from speclearn.tools.constants import *\n",
    "from speclearn.io.data.aoi import get_full_map_aoi_longitude\n",
    "\n",
    "sns.set_style('whitegrid')\n",
    "sns.set_context('notebook')"
   ]
  },
  {
   "cell_type": "code",
   "execution_count": 2,
   "metadata": {},
   "outputs": [],
   "source": [
    "k = 5\n",
    "crs = False\n",
    "area = 'large'\n",
    "norm = False\n",
    "full=True\n",
    "\n",
    "if full:\n",
    "    full_name='_full'\n",
    "else:\n",
    "    full_name=''\n",
    "\n",
    "clist, cmap = get_colorbar(k)"
   ]
  },
  {
   "cell_type": "code",
   "execution_count": null,
   "metadata": {},
   "outputs": [],
   "source": [
    "aoi_list = get_full_map_aoi_longitude(step_size=20)\n",
    "model, model_name = load_beta_VAE_model(crs=crs, norm=norm)\n",
    "print('model:', model_name)"
   ]
  },
  {
   "cell_type": "code",
   "execution_count": 4,
   "metadata": {},
   "outputs": [],
   "source": [
    "data_2d, coord, latent, recon = get_data(aoi_list, model_name=model_name, crs=crs, periods=[], norm=norm)"
   ]
  },
  {
   "cell_type": "code",
   "execution_count": 6,
   "metadata": {},
   "outputs": [],
   "source": [
    "recon_2d = np.full((data_2d.shape[0], data_2d.shape[1], data_2d.shape[2]), np.nan)\n",
    "for i, (x, y) in enumerate(coord):\n",
    "    recon_2d[x,y, :] = recon[i]\n",
    "data_2d = None\n",
    "latent = None"
   ]
  },
  {
   "cell_type": "code",
   "execution_count": 7,
   "metadata": {},
   "outputs": [],
   "source": [
    "if check_file(os.path.join(CACHE_CLUSTER, f'{model_name}_{k}_cluster_2d.npy')):\n",
    "    cluster_2d = np.load(os.path.join(CACHE_CLUSTER, f'{model_name}_{k}_cluster_2d.npy'))\n",
    "\n",
    "cluster_2d_s = cluster_2d[:,:400]\n",
    "cluster_2d_n = cluster_2d[:,-400:]\n",
    "cluster_2d_c = cluster_2d[:, 400:-400]\n",
    "\n",
    "recon_2d_s = recon_2d[:,:400,:]\n",
    "recon_2d_n = recon_2d[:,-400:,:]\n",
    "recon_2d_c = recon_2d[:,400:-400,:]"
   ]
  },
  {
   "cell_type": "code",
   "execution_count": null,
   "metadata": {},
   "outputs": [],
   "source": [
    "fig, axs = plt.subplots(ncols=3, nrows=2, figsize=(12, 5), sharex=True, sharey=True, gridspec_kw={'hspace': 0.1, 'wspace': 0.1})\n",
    "\n",
    "# Define handles and labels for the legend\n",
    "legend_handles = []\n",
    "legend_labels = []\n",
    "axs[0,1].set_ylabel('Norm. CRS')\n",
    "axs[0,1].yaxis.set_tick_params(labelbottom=True)\n",
    "axs[1,0].set_ylabel('Norm. CRS')\n",
    "\n",
    "axs[1,0].set_xlabel('Wavelength [nm]')\n",
    "axs[1,1].set_xlabel('Wavelength [nm]')\n",
    "axs[1,2].set_xlabel('Wavelength [nm]')\n",
    "\n",
    "# remove subplot\n",
    "fig.delaxes(axs[0,0])\n",
    "\n",
    "for c, ax in enumerate(axs.ravel()):\n",
    "    if c > 0:\n",
    "        \n",
    "        spectra = data_2d[cluster_2d==(c-1)]\n",
    "        y = normalize_data(np.nanmean(spectra, axis=0))\n",
    "        y_error = yerr=np.nanstd(spectra, axis=0)\n",
    "        ax.errorbar(local_wavelength, y, c=clist[c-1],lw=2.0, label=f'Cluster {c+1}')\n",
    "        ax.fill_between(local_wavelength, y-y_error, y+y_error, color=clist[c-1], alpha=0.3, edgecolor=None) \n",
    "\n",
    "        # Append the current handle and label to the legend lists\n",
    "        legend_handles.append(ax.lines[-1])\n",
    "        legend_labels.append(f'Cluster {c}')\n",
    "\n",
    "        spectra = data_2d_s[cluster_2d_s==c-1]\n",
    "        y = normalize_data(np.nanmean(spectra, axis=0))\n",
    "        y_error = yerr=np.nanstd(spectra, axis=0)\n",
    "        ax.errorbar(local_wavelength, y, c=clist[c-1],lw=2.0, label=f'Cluster {c+1}',ls='dashed')\n",
    "        #ax.fill_between(local_wavelength, y-y_error, y+y_error, color=clist[c], alpha=0.4, edgecolor=None, hatch='\\\\') \n",
    "\n",
    "        spectra = data_2d_n[cluster_2d_n==c-1]\n",
    "        y = normalize_data(np.nanmean(spectra, axis=0))\n",
    "        y_error = yerr=np.nanstd(spectra, axis=0)\n",
    "        ax.errorbar(local_wavelength, y, c=clist[c-1],lw=2.0, label=f'Cluster {c+1}',ls='dotted')\n",
    "        #ax.fill_between(local_wavelength, y-y_error, y+y_error, color=clist[c], alpha=0.4, edgecolor=None, hatch=f'//') \n",
    "\n",
    "        ax.set_ylim(-0.2,1.1)\n",
    "        ax.set_xlim(450,2550)\n",
    "        \n",
    "line = Line2D([0], [0], label='Central', color='black')\n",
    "line_n = Line2D([0], [0], label='North', color='black', ls='dotted')\n",
    "line_s = Line2D([0], [0], label='South', color='black',ls='dashed')\n",
    "legend_handles.append(line)\n",
    "legend_labels.append(f'Central (|latitude| < 70)')\n",
    "\n",
    "legend_handles.append(line_s)\n",
    "legend_labels.append(f'South (latitude < -70)')\n",
    "\n",
    "legend_handles.append(line_n)\n",
    "legend_labels.append(f'North (latitude > 70)')\n",
    "legend = axs[0,1].legend(legend_handles, legend_labels, bbox_to_anchor=(-.69, 0.5), loc='center', ncol=1)\n",
    "        #legend = ax.legend(legend_handles, legend_labels,loc='center left')\n",
    "\n",
    "plt.savefig(FIGURE_DIR + f'spectra_clusters_crs_{model_name}_{k}{full_name}_per_latitude.png',bbox_inches='tight', dpi=400)\n",
    "plt.show()"
   ]
  }
 ],
 "metadata": {
  "kernelspec": {
   "display_name": "torch_py12",
   "language": "python",
   "name": "python3"
  },
  "language_info": {
   "codemirror_mode": {
    "name": "ipython",
    "version": 3
   },
   "file_extension": ".py",
   "mimetype": "text/x-python",
   "name": "python",
   "nbconvert_exporter": "python",
   "pygments_lexer": "ipython3",
   "version": "3.12.0"
  },
  "orig_nbformat": 4
 },
 "nbformat": 4,
 "nbformat_minor": 2
}

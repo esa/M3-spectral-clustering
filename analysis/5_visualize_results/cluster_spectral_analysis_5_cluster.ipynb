{
 "cells": [
  {
   "cell_type": "code",
   "execution_count": null,
   "metadata": {},
   "outputs": [],
   "source": [
    "import matplotlib.pyplot as plt\n",
    "from matplotlib.lines import Line2D\n",
    "import numpy as np\n",
    "import seaborn as sns\n",
    "from speclearn.deep_learning.model_utils import (get_colorbar,\n",
    "                                                 load_beta_VAE_model)\n",
    "from speclearn.deep_learning.predict import (get_full_data, get_data,\n",
    "                                             process_full_map, read_area)\n",
    "from speclearn.io.data.aoi import get_full_map_aoi\n",
    "from speclearn.plot.map import *\n",
    "from speclearn.tools.cache import check_file\n",
    "from speclearn.tools.data_tools import *\n",
    "from pysptools.spectro import FeaturesConvexHullQuotient\n",
    "local_wavelength = select_wavelength(s_0=0, s_1=-12)\n",
    "import datetime\n",
    "\n",
    "print('Current time: ', datetime.datetime.now())\n",
    "\n",
    "from speclearn.tools.constants import *\n",
    "from speclearn.io.data.aoi import get_full_map_aoi_longitude\n",
    "\n",
    "sns.set_style('whitegrid')\n",
    "sns.set_context('notebook')"
   ]
  },
  {
   "cell_type": "code",
   "execution_count": 6,
   "metadata": {},
   "outputs": [],
   "source": [
    "aoi_list = get_full_map_aoi_longitude(step_size=20)\n",
    "data = get_full_data(aoi_list, crs=False, norm=False, periods=[])\n",
    "cluster_2d = np.load('/home/freya/Documents/Code/cache/cluster_2d/3m3vgrkn_5_cluster_2d_70_lat_full.npy')"
   ]
  },
  {
   "cell_type": "code",
   "execution_count": 7,
   "metadata": {},
   "outputs": [],
   "source": [
    "k = 5\n",
    "crs = False\n",
    "area = 'large'\n",
    "norm = False\n",
    "full=True\n",
    "\n",
    "if full:\n",
    "    full_name='_full'\n",
    "else:\n",
    "    full_name=''\n",
    "\n",
    "clist, cmap = get_colorbar(k)"
   ]
  },
  {
   "cell_type": "code",
   "execution_count": 8,
   "metadata": {},
   "outputs": [],
   "source": [
    "# aoi_list = get_full_map_aoi_longitude(step_size=20)\n",
    "# model, model_name = load_beta_VAE_model(crs=crs, norm=norm)\n",
    "# print('model:', model_name)"
   ]
  },
  {
   "cell_type": "code",
   "execution_count": 9,
   "metadata": {},
   "outputs": [],
   "source": [
    "# data_2d, coord, latent, recon = get_data(aoi_list, model_name=model_name, crs=crs, periods=[], norm=norm)"
   ]
  },
  {
   "cell_type": "code",
   "execution_count": 10,
   "metadata": {},
   "outputs": [],
   "source": [
    "# recon_2d = np.full((data_2d.shape[0], data_2d.shape[1], data_2d.shape[2]), np.nan)\n",
    "# for i, (x, y) in enumerate(coord):\n",
    "#     recon_2d[x,y, :] = recon[i]"
   ]
  },
  {
   "cell_type": "code",
   "execution_count": 11,
   "metadata": {},
   "outputs": [],
   "source": [
    "# if check_file(os.path.join(CACHE_CLUSTER, f'{model_name}_{k}_cluster_2d.npy')):\n",
    "#     cluster_2d = np.load(os.path.join(CACHE_CLUSTER, f'{model_name}_{k}_cluster_2d.npy'))\n",
    "recon_2d = data # remove this line\n",
    "cluster_2d_s = cluster_2d[:,:400]\n",
    "cluster_2d_n = cluster_2d[:,-400:]\n",
    "cluster_2d_c = cluster_2d[:, 400:-400]\n",
    "\n",
    "recon_2d_s = recon_2d[:,:400,:]\n",
    "recon_2d_n = recon_2d[:,-400:,:]\n",
    "recon_2d_c = recon_2d[:,400:-400,:]\n",
    "\n",
    "# plt.figure(figsize=(15,8))\n",
    "# sns.heatmap(np.rot90(cluster_2d_full))"
   ]
  },
  {
   "cell_type": "code",
   "execution_count": null,
   "metadata": {},
   "outputs": [],
   "source": [
    "import matplotlib\n",
    "clist = ['#432e6b','#4580ba', '#b3b3b3', '#7cd250', '#fbeb37']#, '#fced69']\n",
    "cmap = matplotlib.colors.ListedColormap(clist, \"\")\n",
    "cmap.set_under('black')\n",
    "cmap"
   ]
  },
  {
   "cell_type": "code",
   "execution_count": null,
   "metadata": {},
   "outputs": [],
   "source": [
    "fig, axs = plt.subplots(ncols=3, nrows=2, figsize=(12, 5), sharex=True, sharey=True, gridspec_kw={'hspace': 0.1, 'wspace': 0.1})\n",
    "\n",
    "# Define handles and labels for the legend\n",
    "legend_handles = []\n",
    "legend_labels = []\n",
    "#axs[0,0].set_ylabel('Reflectance')\n",
    "axs[0,1].set_ylabel('Reflectance')\n",
    "axs[0,1].yaxis.set_tick_params(labelbottom=True)\n",
    "\n",
    "axs[1,0].set_ylabel('Reflectance')\n",
    "axs[1,0].set_xlabel('Wavelength [nm]')\n",
    "axs[1,1].set_xlabel('Wavelength [nm]')\n",
    "axs[1,2].set_xlabel('Wavelength [nm]')\n",
    "fig.delaxes(axs[0,0])\n",
    "\n",
    "for c, ax in enumerate(axs.ravel()):\n",
    "    if c > 0:\n",
    "        \n",
    "        spectra = recon_2d[cluster_2d==c-1]\n",
    "        y = np.nanmean(spectra, axis=0)\n",
    "        y_error = yerr=np.nanstd(spectra, axis=0)\n",
    "        ax.errorbar(local_wavelength, y, c=clist[c-1],lw=2.0, label=f'Cluster {c}')\n",
    "        ax.fill_between(local_wavelength, y-y_error, y+y_error, color=clist[c-1], alpha=0.4, edgecolor=None) \n",
    "               \n",
    "        ax.set_ylim(0.02,0.3)\n",
    "        ax.set_xlim(450,2550)\n",
    "\n",
    "        # Append the current handle and label to the legend lists\n",
    "        legend_handles.append(ax.lines[-1])\n",
    "        legend_labels.append(f'Cluster {c}')\n",
    "\n",
    "        # spectra = recon_2d_s[cluster_2d_s==c-1]\n",
    "        # y = np.nanmean(spectra, axis=0)\n",
    "        # y_error = yerr=np.nanstd(spectra, axis=0)\n",
    "        # ax.errorbar(local_wavelength, y, c=clist[c-1],lw=2.0, label=f'Cluster {c}',ls='dashed')\n",
    "        # #ax.fill_between(local_wavelength, y-y_error, y+y_error, color=clist[c], alpha=0.4, edgecolor=None) \n",
    "\n",
    "        # spectra = recon_2d_n[cluster_2d_n==c-1]\n",
    "        # y = np.nanmean(spectra, axis=0)\n",
    "        # y_error = yerr=np.nanstd(spectra, axis=0)\n",
    "        # ax.errorbar(local_wavelength, y, c=clist[c-1],lw=2.0, label=f'Cluster {c}',ls='dotted')\n",
    "        \n",
    "        # ax.vlines(1000, 0, 1., color='grey', linestyle='--')\n",
    "        # ax.vlines(2000, 0, 1., color='grey', linestyle='--')\n",
    "    #else:\n",
    "    #    legend = ax.legend(legend_handles, legend_labels,loc='center left')\n",
    "\n",
    "line = Line2D([0], [0], label='Central', color='black')\n",
    "line_n = Line2D([0], [0], label='North', color='black', ls='dotted')\n",
    "line_s = Line2D([0], [0], label='South', color='black',ls='dashed')\n",
    "# legend_handles.append(line)\n",
    "# legend_labels.append(f'Central (|latitude| < 70)')\n",
    "\n",
    "# legend_handles.append(line_s)\n",
    "# legend_labels.append(f'South (latitude < -70)')\n",
    "\n",
    "# legend_handles.append(line_n)\n",
    "# legend_labels.append(f'North (latitude > 70)')\n",
    "legend = axs[0,1].legend(legend_handles, legend_labels, bbox_to_anchor=(\n",
    "    -.69, 0.5), loc='center', ncol=1)\n",
    "\n",
    "#plt.savefig(FIGURE_DIR + f'2024_spectra_clusters_{model_name}_{k}{full_name}.png',bbox_inches='tight', dpi=400)\n",
    "plt.show()"
   ]
  }
 ],
 "metadata": {
  "kernelspec": {
   "display_name": "torch_py12",
   "language": "python",
   "name": "python3"
  },
  "language_info": {
   "codemirror_mode": {
    "name": "ipython",
    "version": 3
   },
   "file_extension": ".py",
   "mimetype": "text/x-python",
   "name": "python",
   "nbconvert_exporter": "python",
   "pygments_lexer": "ipython3",
   "version": "3.12.0"
  },
  "orig_nbformat": 4
 },
 "nbformat": 4,
 "nbformat_minor": 2
}

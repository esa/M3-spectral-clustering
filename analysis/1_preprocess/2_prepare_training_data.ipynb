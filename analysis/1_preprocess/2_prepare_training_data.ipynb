{
 "cells": [
  {
   "cell_type": "code",
   "execution_count": 6,
   "metadata": {},
   "outputs": [],
   "source": [
    "from speclearn.tools.constants import *\n",
    "from speclearn.io.transform.rebin import rebin_from_aoi\n",
    "import numpy as np\n",
    "from speclearn.deep_learning.predict import get_full_data\n",
    "from speclearn.io.data.aoi import get_full_map_aoi_longitude\n",
    "from speclearn.deep_learning.predict import get_names, make_data_input_file"
   ]
  },
  {
   "cell_type": "markdown",
   "metadata": {},
   "source": [
    "# Global data file"
   ]
  },
  {
   "cell_type": "code",
   "execution_count": null,
   "metadata": {},
   "outputs": [],
   "source": [
    "aoi_full = {\n",
    "    'name': 'loc_-180_180_-90_90',\n",
    "    'lat_range': [-90, 90],\n",
    "    'long_range': [-180, 180],\n",
    "    'd_long': 0.05,\n",
    "    'd_lat': 0.05,\n",
    "}\n",
    "latitude_range = f'{int(aoi_full['lat_range'][0])}_{int(aoi_full['lat_range'][1])}'\n",
    "longitude_range = f'{int(aoi_full[\"long_range\"][0])}_{int(aoi_full[\"long_range\"][1])}'\n",
    "suffix=''\n",
    "full_file_name = f\"{CACHE_PREDICT}/data_{longitude_range}_{latitude_range}.npy\"\n",
    "print(full_file_name)"
   ]
  },
  {
   "cell_type": "code",
   "execution_count": 3,
   "metadata": {},
   "outputs": [],
   "source": [
    "if not os.path.exists(full_file_name):\n",
    "    aoi_list = get_full_map_aoi_longitude(step_size=20)\n",
    "    for aoi in aoi_list:\n",
    "        latitude_range = f'{int(aoi['lat_range'][0])}_{int(aoi['lat_range'][1])}'\n",
    "        longitude_range = f'{int(aoi[\"long_range\"][0])}_{int(aoi[\"long_range\"][1])}'\n",
    "        crs_name, norm_name, period_name = get_names(\n",
    "            crs=False, norm=False, periods=[])\n",
    "                \n",
    "        data_input_file = f'{CACHE_PREDICT}/data_{longitude_range}_{latitude_range}{period_name}{norm_name}{crs_name}.npy'\n",
    "        if not os.path.exists(data_input_file):\n",
    "            pickle = rebin_from_aoi(aoi, refl=False, periods=[])\n",
    "            data_input = make_data_input_file(pickle=pickle, crs=False, norm=False)\n",
    "            np.save(data_input_file, data_input)\n",
    "        else:\n",
    "            full_data = get_full_data(aoi_list, crs=False, norm=False, periods=[])\n",
    "    np.save(full_file_name, full_data)\n",
    "else:\n",
    "    full_data = np.load(full_file_name)"
   ]
  }
 ],
 "metadata": {
  "kernelspec": {
   "display_name": "torch_py12",
   "language": "python",
   "name": "python3"
  },
  "language_info": {
   "codemirror_mode": {
    "name": "ipython",
    "version": 3
   },
   "file_extension": ".py",
   "mimetype": "text/x-python",
   "name": "python",
   "nbconvert_exporter": "python",
   "pygments_lexer": "ipython3",
   "version": "3.12.0"
  }
 },
 "nbformat": 4,
 "nbformat_minor": 2
}
